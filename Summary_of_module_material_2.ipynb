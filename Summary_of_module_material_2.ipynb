{
  "cells": [
    {
      "cell_type": "markdown",
      "source": [
        "#Preprocessing Layers"
      ],
      "metadata": {
        "id": "jBcCrzX8Ifoj"
      }
    },
    {
      "cell_type": "markdown",
      "source": [
        "##TextVectorization class Layers\n",
        "The processing of each example contains the following steps:\n",
        "\n",
        "Standardize each example (usually lowercasing + punctuation stripping)\n",
        "Split each example into substrings (usually words)\n",
        "Recombine substrings into tokens (usually ngrams)\n",
        "Index tokens (associate a unique int value with each token)\n",
        "Transform each example using this index, either into a vector of ints or a dense float vector."
      ],
      "metadata": {
        "id": "QXCyc-ztIukn"
      }
    },
    {
      "cell_type": "code",
      "execution_count": null,
      "metadata": {
        "id": "8SgqvMFXZYJ3"
      },
      "outputs": [],
      "source": [
        "tf.keras.layers.TextVectorization(\n",
        "    max_tokens=None,\n",
        "    standardize=\"lower_and_strip_punctuation\",\n",
        "    split=\"whitespace\",\n",
        "    ngrams=None,\n",
        "    output_mode=\"int\",\n",
        "    output_sequence_length=None,\n",
        "    pad_to_max_tokens=False,\n",
        "    vocabulary=None,\n",
        "    idf_weights=None,\n",
        "    sparse=False,\n",
        "    ragged=False,\n",
        "    encoding=\"utf-8\",\n",
        "    **kwargs\n",
        ")"
      ]
    },
    {
      "cell_type": "markdown",
      "source": [
        "##Numerical features preprocessing layers\n",
        "###Normalization layer\n"
      ],
      "metadata": {
        "id": "k8-1RzvvJpNM"
      }
    },
    {
      "cell_type": "code",
      "source": [
        "tf.keras.layers.Normalization(\n",
        "    axis=-1, mean=None, variance=None, invert=False, **kwargs\n",
        ")"
      ],
      "metadata": {
        "id": "xPoNQiLOKBBR"
      },
      "execution_count": null,
      "outputs": []
    },
    {
      "cell_type": "markdown",
      "source": [
        "###Discretization layer"
      ],
      "metadata": {
        "id": "iPiyZmv_J16W"
      }
    },
    {
      "cell_type": "code",
      "execution_count": null,
      "metadata": {
        "id": "_k_cXmiCwPGq"
      },
      "outputs": [],
      "source": [
        "tf.keras.layers.Discretization(\n",
        "    bin_boundaries=None,\n",
        "    num_bins=None,\n",
        "    epsilon=0.01,\n",
        "    output_mode=\"int\",\n",
        "    sparse=False,\n",
        "    **kwargs\n",
        ")"
      ]
    },
    {
      "cell_type": "markdown",
      "source": [
        "##Categorical features preprocessing layers\n",
        "###CategoryEncoding layer"
      ],
      "metadata": {
        "id": "jjs-fMUTKfyF"
      }
    },
    {
      "cell_type": "code",
      "execution_count": null,
      "metadata": {
        "id": "Qx8uyfeVxK7i"
      },
      "outputs": [],
      "source": [
        "#A preprocessing layer which encodes integer features.\n",
        "tf.keras.layers.CategoryEncoding(\n",
        "    num_tokens=None, output_mode=\"multi_hot\", sparse=False, **kwargs\n",
        ")"
      ]
    },
    {
      "cell_type": "markdown",
      "source": [
        "###Hashing Layer"
      ],
      "metadata": {
        "id": "6ai54BSjK_Iq"
      }
    },
    {
      "cell_type": "code",
      "source": [
        "#A preprocessing layer which hashes and bins categorical features.\n",
        "tf.keras.layers.Hashing(\n",
        "    num_bins, mask_value=None, salt=None, output_mode=\"int\", sparse=False, **kwargs\n",
        ")"
      ],
      "metadata": {
        "id": "15M8qjDkLA0Y"
      },
      "execution_count": null,
      "outputs": []
    },
    {
      "cell_type": "markdown",
      "source": [
        "###StringLookup layer"
      ],
      "metadata": {
        "id": "F1r_ITaGLHpB"
      }
    },
    {
      "cell_type": "code",
      "source": [
        "#A preprocessing layer which maps string features to integer indices.\n",
        "tf.keras.layers.StringLookup(\n",
        "    max_tokens=None,\n",
        "    num_oov_indices=1,\n",
        "    mask_token=None,\n",
        "    oov_token=\"[UNK]\",\n",
        "    vocabulary=None,\n",
        "    idf_weights=None,\n",
        "    encoding=\"utf-8\",\n",
        "    invert=False,\n",
        "    output_mode=\"int\",\n",
        "    sparse=False,\n",
        "    pad_to_max_tokens=False,\n",
        "    **kwargs\n",
        ")"
      ],
      "metadata": {
        "id": "bTAEY3RBLIuD"
      },
      "execution_count": null,
      "outputs": []
    },
    {
      "cell_type": "markdown",
      "source": [
        "###IntegerLookup layer"
      ],
      "metadata": {
        "id": "2SoY0wASLSD1"
      }
    },
    {
      "cell_type": "code",
      "source": [
        "#A preprocessing layer which maps integer features to contiguous ranges.\n",
        "tf.keras.layers.IntegerLookup(\n",
        "    max_tokens=None,\n",
        "    num_oov_indices=1,\n",
        "    mask_token=None,\n",
        "    oov_token=-1,\n",
        "    vocabulary=None,\n",
        "    vocabulary_dtype=\"int64\",\n",
        "    idf_weights=None,\n",
        "    invert=False,\n",
        "    output_mode=\"int\",\n",
        "    sparse=False,\n",
        "    pad_to_max_tokens=False,\n",
        "    **kwargs\n",
        ")"
      ],
      "metadata": {
        "id": "_PCTMizbLTGj"
      },
      "execution_count": null,
      "outputs": []
    },
    {
      "cell_type": "markdown",
      "source": [
        "##Image preprocessing layers\n",
        "###Resizing layer"
      ],
      "metadata": {
        "id": "4QLVJZShLamE"
      }
    },
    {
      "cell_type": "code",
      "execution_count": null,
      "metadata": {
        "id": "JDl532oM0Jkt"
      },
      "outputs": [],
      "source": [
        "#A preprocessing layer which resizes images.\n",
        "tf.keras.layers.Resizing(\n",
        "    height, width, interpolation=\"bilinear\", crop_to_aspect_ratio=False, **kwargs\n",
        ")"
      ]
    },
    {
      "cell_type": "markdown",
      "source": [
        "###Rescaling layer"
      ],
      "metadata": {
        "id": "lo2sSDxqLoSs"
      }
    },
    {
      "cell_type": "code",
      "execution_count": null,
      "metadata": {
        "id": "4ulNosAm2Xrh"
      },
      "outputs": [],
      "source": [
        "#A preprocessing layer which rescales input values to a new range.\n",
        "tf.keras.layers.Rescaling(scale, offset=0.0, **kwargs)"
      ]
    },
    {
      "cell_type": "markdown",
      "source": [
        "###CenterCrop layer"
      ],
      "metadata": {
        "id": "5mRUU3ZaL3Fl"
      }
    },
    {
      "cell_type": "code",
      "execution_count": null,
      "metadata": {
        "id": "FdZ5K_J-303q"
      },
      "outputs": [],
      "source": [
        "#A preprocessing layer which crops images.\n",
        "tf.keras.layers.CenterCrop(height, width, **kwargs)"
      ]
    },
    {
      "cell_type": "markdown",
      "source": [
        "##Image augmentation layers\n",
        "###RandomCrop layer"
      ],
      "metadata": {
        "id": "49ifD8VVL-zU"
      }
    },
    {
      "cell_type": "code",
      "execution_count": null,
      "metadata": {
        "id": "RliYb5_B35Q8"
      },
      "outputs": [],
      "source": [
        "#A preprocessing layer which randomly crops images during training.\n",
        "tf.keras.layers.RandomCrop(height, width, seed=None, **kwargs)"
      ]
    },
    {
      "cell_type": "markdown",
      "source": [
        "###RandomFlip layer"
      ],
      "metadata": {
        "id": "56tUSUDAMJaG"
      }
    },
    {
      "cell_type": "code",
      "execution_count": null,
      "metadata": {
        "id": "W0B6TkXb4E8I"
      },
      "outputs": [],
      "source": [
        "#A preprocessing layer which randomly flips images during training.\n",
        "tf.keras.layers.RandomFlip(\n",
        "    mode=\"horizontal_and_vertical\", seed=None, **kwargs\n",
        ")"
      ]
    },
    {
      "cell_type": "markdown",
      "source": [
        "###RandomTranslation layer"
      ],
      "metadata": {
        "id": "KKraqKKtMR_h"
      }
    },
    {
      "cell_type": "code",
      "source": [
        "#A preprocessing layer which randomly translates images during training.\n",
        "tf.keras.layers.RandomTranslation(\n",
        "    height_factor,\n",
        "    width_factor,\n",
        "    fill_mode=\"reflect\",\n",
        "    interpolation=\"bilinear\",\n",
        "    seed=None,\n",
        "    fill_value=0.0,\n",
        "    **kwargs\n",
        ")"
      ],
      "metadata": {
        "id": "MUUxfO2mMS9t"
      },
      "execution_count": null,
      "outputs": []
    },
    {
      "cell_type": "markdown",
      "source": [
        "###RandomRotation layer"
      ],
      "metadata": {
        "id": "904YsaPdMWqN"
      }
    },
    {
      "cell_type": "code",
      "source": [
        "#A preprocessing layer which randomly rotates images during training.\n",
        "tf.keras.layers.RandomRotation(\n",
        "    factor,\n",
        "    fill_mode=\"reflect\",\n",
        "    interpolation=\"bilinear\",\n",
        "    seed=None,\n",
        "    fill_value=0.0,\n",
        "    **kwargs\n",
        ")"
      ],
      "metadata": {
        "id": "3eRo8H9bMgmx"
      },
      "execution_count": null,
      "outputs": []
    },
    {
      "cell_type": "markdown",
      "source": [
        "###RandomZoom layer"
      ],
      "metadata": {
        "id": "ayLpIiZbMma6"
      }
    },
    {
      "cell_type": "code",
      "source": [
        "#A preprocessing layer which randomly zooms images during training.\n",
        "tf.keras.layers.RandomZoom(\n",
        "    height_factor,\n",
        "    width_factor=None,\n",
        "    fill_mode=\"reflect\",\n",
        "    interpolation=\"bilinear\",\n",
        "    seed=None,\n",
        "    fill_value=0.0,\n",
        "    **kwargs\n",
        ")"
      ],
      "metadata": {
        "id": "qDxMbMtBMqEC"
      },
      "execution_count": null,
      "outputs": []
    },
    {
      "cell_type": "markdown",
      "source": [
        "###RandomHeight layer"
      ],
      "metadata": {
        "id": "d_0eKp8nMtMZ"
      }
    },
    {
      "cell_type": "code",
      "source": [
        "#A preprocessing layer which randomly varies image height during training.\n",
        "tf.keras.layers.RandomHeight(\n",
        "    factor, interpolation=\"bilinear\", seed=None, **kwargs\n",
        ")"
      ],
      "metadata": {
        "id": "EejRtUc2MwXh"
      },
      "execution_count": null,
      "outputs": []
    },
    {
      "cell_type": "markdown",
      "source": [
        "###RandomWidth layer\n"
      ],
      "metadata": {
        "id": "Nu2MFQpCMzLj"
      }
    },
    {
      "cell_type": "code",
      "source": [
        "#A preprocessing layer which randomly varies image width during training.\n",
        "tf.keras.layers.RandomWidth(\n",
        "    factor, interpolation=\"bilinear\", seed=None, **kwargs\n",
        ")"
      ],
      "metadata": {
        "id": "PeotmJs2M3zU"
      },
      "execution_count": null,
      "outputs": []
    },
    {
      "cell_type": "markdown",
      "source": [
        "###RandomContrast layer"
      ],
      "metadata": {
        "id": "J3aYEE4bM7Ox"
      }
    },
    {
      "cell_type": "code",
      "source": [
        "#A preprocessing layer which randomly adjusts contrast during training.\n",
        "tf.keras.layers.RandomContrast(factor, seed=None, **kwargs)"
      ],
      "metadata": {
        "id": "kf5xUN1iM-c3"
      },
      "execution_count": null,
      "outputs": []
    },
    {
      "cell_type": "markdown",
      "source": [
        "###RandomBrightness layer"
      ],
      "metadata": {
        "id": "uajeyrtPNCBQ"
      }
    },
    {
      "cell_type": "code",
      "source": [
        "#A preprocessing layer which randomly adjusts brightness during training.\n",
        "tf.keras.layers.RandomBrightness(\n",
        "    factor, value_range=(0, 255), seed=None, **kwargs\n",
        ")"
      ],
      "metadata": {
        "id": "GC4Yp8meNGqc"
      },
      "execution_count": null,
      "outputs": []
    },
    {
      "cell_type": "markdown",
      "source": [
        "#Example Data Augmentation\n",
        "In the previous lessons, you saw that having a high training accuracy does not automatically mean having a good predictive model. It can still perform poorly on new data because it has overfit to the training set. In this lab, you will see how to avoid that using data augmentation. This increases the amount of training data by modifying the existing training data's properties. For example, in image data, you can apply different preprocessing techniques such as rotate, flip, shear, or zoom on your existing images so you can simulate other data that the model should also learn from. This way, the model would see more variety in the images during training so it will infer better on new, previously unseen data.\n",
        "\n",
        "Let's see how you can do this in the following sections."
      ],
      "metadata": {
        "id": "RPQ2R_RpOqe0"
      }
    },
    {
      "cell_type": "markdown",
      "source": [
        "##Baseline Performance\n",
        "ou will start with a model that's very effective at learning Cats vs Dogs without data augmentation. It's similar to the previous models that you have used. Note that there are four convolutional layers with 32, 64, 128 and 128 convolutions respectively. The code is basically the same from the previous lab so we won't go over the details step by step since you've already seen it before.\n",
        "\n",
        "You will train only for 20 epochs to save time but feel free to increase this if you want."
      ],
      "metadata": {
        "id": "6wgMhVHkOyxn"
      }
    },
    {
      "cell_type": "markdown",
      "source": [],
      "metadata": {
        "id": "1Fdwz5onOz4q"
      }
    },
    {
      "cell_type": "code",
      "source": [
        "# Download the dataset\n",
        "!wget https://storage.googleapis.com/tensorflow-1-public/course2/cats_and_dogs_filtered.zip"
      ],
      "metadata": {
        "id": "m-T356pWOsth"
      },
      "execution_count": null,
      "outputs": []
    },
    {
      "cell_type": "code",
      "source": [
        "import os\n",
        "import zipfile\n",
        "\n",
        "# Extract the archive\n",
        "zip_ref = zipfile.ZipFile(\"./cats_and_dogs_filtered.zip\", 'r')\n",
        "zip_ref.extractall(\"tmp/\")\n",
        "zip_ref.close()\n",
        "\n",
        "# Assign training and validation set directories\n",
        "base_dir = 'tmp/cats_and_dogs_filtered'\n",
        "train_dir = os.path.join(base_dir, 'train')\n",
        "validation_dir = os.path.join(base_dir, 'validation')\n",
        "\n",
        "# Directory with training cat pictures\n",
        "train_cats_dir = os.path.join(train_dir, 'cats')\n",
        "\n",
        "# Directory with training dog pictures\n",
        "train_dogs_dir = os.path.join(train_dir, 'dogs')\n",
        "\n",
        "# Directory with validation cat pictures\n",
        "validation_cats_dir = os.path.join(validation_dir, 'cats')\n",
        "\n",
        "# Directory with validation dog pictures\n",
        "validation_dogs_dir = os.path.join(validation_dir, 'dogs')"
      ],
      "metadata": {
        "id": "1saYMuuFPCZz"
      },
      "execution_count": null,
      "outputs": []
    },
    {
      "cell_type": "code",
      "source": [
        "#You will place the model creation inside a function so you can easily initialize a new one when you use data augmentation later in this notebook.\n",
        "import tensorflow as tf\n",
        "from tensorflow.keras.optimizers import RMSprop\n",
        "\n",
        "def create_model():\n",
        "  '''Creates a CNN with 4 convolutional layers'''\n",
        "  model = tf.keras.models.Sequential([\n",
        "      tf.keras.layers.Conv2D(32, (3,3), activation='relu', input_shape=(150, 150, 3)),\n",
        "      tf.keras.layers.MaxPooling2D(2, 2),\n",
        "      tf.keras.layers.Conv2D(64, (3,3), activation='relu'),\n",
        "      tf.keras.layers.MaxPooling2D(2,2),\n",
        "      tf.keras.layers.Conv2D(128, (3,3), activation='relu'),\n",
        "      tf.keras.layers.MaxPooling2D(2,2),\n",
        "      tf.keras.layers.Conv2D(128, (3,3), activation='relu'),\n",
        "      tf.keras.layers.MaxPooling2D(2,2),\n",
        "      tf.keras.layers.Flatten(),\n",
        "      tf.keras.layers.Dense(512, activation='relu'),\n",
        "      tf.keras.layers.Dense(1, activation='sigmoid')\n",
        "  ])\n",
        "\n",
        "  model.compile(loss='binary_crossentropy',\n",
        "                optimizer=RMSprop(learning_rate=1e-4),\n",
        "                metrics=['accuracy'])\n",
        "  \n",
        "  return model"
      ],
      "metadata": {
        "id": "JOaHrkAUPFBj"
      },
      "execution_count": null,
      "outputs": []
    },
    {
      "cell_type": "code",
      "source": [
        "from tensorflow.keras.preprocessing.image import ImageDataGenerator\n",
        "\n",
        "# All images will be rescaled by 1./255\n",
        "train_datagen = ImageDataGenerator(rescale=1./255)\n",
        "test_datagen = ImageDataGenerator(rescale=1./255)\n",
        "\n",
        "# Flow training images in batches of 20 using train_datagen generator\n",
        "train_generator = train_datagen.flow_from_directory(\n",
        "        train_dir,  # This is the source directory for training images\n",
        "        target_size=(150, 150),  # All images will be resized to 150x150\n",
        "        batch_size=20,\n",
        "        # Since we use binary_crossentropy loss, we need binary labels\n",
        "        class_mode='binary')\n",
        "\n",
        "# Flow validation images in batches of 20 using test_datagen generator\n",
        "validation_generator = test_datagen.flow_from_directory(\n",
        "        validation_dir,\n",
        "        target_size=(150, 150),\n",
        "        batch_size=20,\n",
        "        class_mode='binary')"
      ],
      "metadata": {
        "id": "u9_apiVjPHbR"
      },
      "execution_count": null,
      "outputs": []
    },
    {
      "cell_type": "code",
      "source": [
        "# Constant for epochs\n",
        "EPOCHS = 20\n",
        "\n",
        "# Create a new model\n",
        "model = create_model()\n",
        "\n",
        "# Train the model\n",
        "history = model.fit(\n",
        "      train_generator,\n",
        "      steps_per_epoch=100,  # 2000 images = batch_size * steps\n",
        "      epochs=EPOCHS,\n",
        "      validation_data=validation_generator,\n",
        "      validation_steps=50,  # 1000 images = batch_size * steps\n",
        "      verbose=2)\n",
        "\n",
        "#You will then visualize the loss and accuracy with respect to the training and validation set. You will again use a convenience function so it can be reused later. \n",
        "#This function accepts a History object which contains the results of the fit() method you ran above."
      ],
      "metadata": {
        "id": "IM85KHS0PJU3"
      },
      "execution_count": null,
      "outputs": []
    },
    {
      "cell_type": "code",
      "source": [
        "import matplotlib.pyplot as plt\n",
        "\n",
        "def plot_loss_acc(history):\n",
        "  '''Plots the training and validation loss and accuracy from a history object'''\n",
        "  acc = history.history['accuracy']\n",
        "  val_acc = history.history['val_accuracy']\n",
        "  loss = history.history['loss']\n",
        "  val_loss = history.history['val_loss']\n",
        "\n",
        "  epochs = range(len(acc))\n",
        "\n",
        "  plt.plot(epochs, acc, 'bo', label='Training accuracy')\n",
        "  plt.plot(epochs, val_acc, 'b', label='Validation accuracy')\n",
        "  plt.title('Training and validation accuracy')\n",
        "\n",
        "  plt.figure()\n",
        "\n",
        "  plt.plot(epochs, loss, 'bo', label='Training Loss')\n",
        "  plt.plot(epochs, val_loss, 'b', label='Validation Loss')\n",
        "  plt.title('Training and validation loss')\n",
        "  plt.legend()\n",
        "\n",
        "  plt.show()"
      ],
      "metadata": {
        "id": "8zreUAmrPKz5"
      },
      "execution_count": null,
      "outputs": []
    },
    {
      "cell_type": "code",
      "source": [
        "# Plot training results\n",
        "plot_loss_acc(history)"
      ],
      "metadata": {
        "id": "-UWNYZgrPRua"
      },
      "execution_count": null,
      "outputs": []
    },
    {
      "cell_type": "markdown",
      "source": [
        "From the results above, you'll see the training accuracy is more than 90%, and the validation accuracy is in the 70%-80% range. This is a great example of overfitting -- which in short means that it can do very well with images it has seen before, but not so well with images it hasn't."
      ],
      "metadata": {
        "id": "JRk4diH7PUcM"
      }
    },
    {
      "cell_type": "markdown",
      "source": [
        "#Data augmentation\n",
        "One simple method to avoid overfitting is to augment the images a bit. If you think about it, most pictures of a cat are very similar -- the ears are at the top, then the eyes, then the mouth etc. Things like the distance between the eyes and ears will always be quite similar too.\n",
        "\n",
        "What if you tweak with the images a bit -- rotate the image, squash it, etc. That's what image augementation is all about. And there's an API that makes it easy!\n",
        "\n",
        "Take a look at the ImageDataGenerator which you have been using to rescale the image. There are other properties on it that you can use to augment the image.\n",
        "\n",
        "# Updated to do image augmentation\n",
        "train_datagen = ImageDataGenerator(\n",
        "      rotation_range=40,\n",
        "      width_shift_range=0.2,\n",
        "      height_shift_range=0.2,\n",
        "      shear_range=0.2,\n",
        "      zoom_range=0.2,\n",
        "      horizontal_flip=True,\n",
        "      fill_mode='nearest')\n",
        "These are just a few of the options available. Let's quickly go over it:\n",
        "\n",
        "rotation_range is a value in degrees (0–180) within which to randomly rotate pictures.\n",
        "width_shift and height_shift are ranges (as a fraction of total width or height) within which to randomly translate pictures vertically or horizontally.\n",
        "shear_range is for randomly applying shearing transformations.\n",
        "zoom_range is for randomly zooming inside pictures.\n",
        "horizontal_flip is for randomly flipping half of the images horizontally. This is relevant when there are no assumptions of horizontal assymmetry (e.g. real-world pictures).\n",
        "fill_mode is the strategy used for filling in newly created pixels, which can appear after a rotation or a width/height shift.\n",
        "Run the next cells to see the impact on the results. The code is similar to the baseline but the definition of train_datagen has been updated to use the parameters described above."
      ],
      "metadata": {
        "id": "TyZQFpgtPWZB"
      }
    },
    {
      "cell_type": "code",
      "source": [
        "# Create new model\n",
        "model_for_aug = create_model()\n",
        "\n",
        "# This code has changed. Now instead of the ImageGenerator just rescaling\n",
        "# the image, we also rotate and do other operations\n",
        "train_datagen = ImageDataGenerator(\n",
        "      rescale=1./255,\n",
        "      rotation_range=40,\n",
        "      width_shift_range=0.2,\n",
        "      height_shift_range=0.2,\n",
        "      shear_range=0.2,\n",
        "      zoom_range=0.2,\n",
        "      horizontal_flip=True,\n",
        "      fill_mode='nearest')\n",
        "\n",
        "test_datagen = ImageDataGenerator(rescale=1./255)\n",
        "\n",
        "# Flow training images in batches of 20 using train_datagen generator\n",
        "train_generator = train_datagen.flow_from_directory(\n",
        "        train_dir,  # This is the source directory for training images\n",
        "        target_size=(150, 150),  # All images will be resized to 150x150\n",
        "        batch_size=20,\n",
        "        # Since we use binary_crossentropy loss, we need binary labels\n",
        "        class_mode='binary')\n",
        "\n",
        "# Flow validation images in batches of 20 using test_datagen generator\n",
        "validation_generator = test_datagen.flow_from_directory(\n",
        "        validation_dir,\n",
        "        target_size=(150, 150),\n",
        "        batch_size=20,\n",
        "        class_mode='binary')\n",
        "\n",
        "# Train the new model\n",
        "history_with_aug = model_for_aug.fit(\n",
        "      train_generator,\n",
        "      steps_per_epoch=100,  # 2000 images = batch_size * steps\n",
        "      epochs=EPOCHS,\n",
        "      validation_data=validation_generator,\n",
        "      validation_steps=50,  # 1000 images = batch_size * steps\n",
        "      verbose=2)"
      ],
      "metadata": {
        "id": "_ut0VJwyPdKH"
      },
      "execution_count": null,
      "outputs": []
    },
    {
      "cell_type": "code",
      "source": [
        "# Plot the results of training with data augmentation\n",
        "plot_loss_acc(history_with_aug)"
      ],
      "metadata": {
        "id": "C7wZNVSRPfIh"
      },
      "execution_count": null,
      "outputs": []
    },
    {
      "cell_type": "markdown",
      "source": [
        "As you can see, the training accuracy has gone down compared to the baseline. This is expected because (as a result of data augmentation) there are more variety in the images so the model will need more runs to learn from them. The good thing is the validation accuracy is no longer stalling and is more in line with the training results. This means that the model is now performing better on unseen data."
      ],
      "metadata": {
        "id": "WzdsXAulPiQ5"
      }
    }
  ],
  "metadata": {
    "colab": {
      "provenance": [],
      "authorship_tag": "ABX9TyNDZT6zw5nYJN07SKNVOYsp"
    },
    "kernelspec": {
      "display_name": "Python 3",
      "name": "python3"
    },
    "language_info": {
      "name": "python"
    }
  },
  "nbformat": 4,
  "nbformat_minor": 0
}