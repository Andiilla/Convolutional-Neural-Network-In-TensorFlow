{
  "cells": [
    {
      "cell_type": "markdown",
      "source": [
        "#Preprocessing Layers"
      ],
      "metadata": {
        "id": "jBcCrzX8Ifoj"
      }
    },
    {
      "cell_type": "markdown",
      "source": [
        "##TextVectorization class Layers\n",
        "The processing of each example contains the following steps:\n",
        "\n",
        "Standardize each example (usually lowercasing + punctuation stripping)\n",
        "Split each example into substrings (usually words)\n",
        "Recombine substrings into tokens (usually ngrams)\n",
        "Index tokens (associate a unique int value with each token)\n",
        "Transform each example using this index, either into a vector of ints or a dense float vector."
      ],
      "metadata": {
        "id": "QXCyc-ztIukn"
      }
    },
    {
      "cell_type": "code",
      "execution_count": null,
      "metadata": {
        "id": "8SgqvMFXZYJ3"
      },
      "outputs": [],
      "source": [
        "tf.keras.layers.TextVectorization(\n",
        "    max_tokens=None,\n",
        "    standardize=\"lower_and_strip_punctuation\",\n",
        "    split=\"whitespace\",\n",
        "    ngrams=None,\n",
        "    output_mode=\"int\",\n",
        "    output_sequence_length=None,\n",
        "    pad_to_max_tokens=False,\n",
        "    vocabulary=None,\n",
        "    idf_weights=None,\n",
        "    sparse=False,\n",
        "    ragged=False,\n",
        "    encoding=\"utf-8\",\n",
        "    **kwargs\n",
        ")"
      ]
    },
    {
      "cell_type": "markdown",
      "source": [
        "##Numerical features preprocessing layers\n",
        "###Normalization layer\n"
      ],
      "metadata": {
        "id": "k8-1RzvvJpNM"
      }
    },
    {
      "cell_type": "code",
      "source": [
        "tf.keras.layers.Normalization(\n",
        "    axis=-1, mean=None, variance=None, invert=False, **kwargs\n",
        ")"
      ],
      "metadata": {
        "id": "xPoNQiLOKBBR"
      },
      "execution_count": null,
      "outputs": []
    },
    {
      "cell_type": "markdown",
      "source": [
        "###Discretization layer"
      ],
      "metadata": {
        "id": "iPiyZmv_J16W"
      }
    },
    {
      "cell_type": "code",
      "execution_count": null,
      "metadata": {
        "id": "_k_cXmiCwPGq"
      },
      "outputs": [],
      "source": [
        "tf.keras.layers.Discretization(\n",
        "    bin_boundaries=None,\n",
        "    num_bins=None,\n",
        "    epsilon=0.01,\n",
        "    output_mode=\"int\",\n",
        "    sparse=False,\n",
        "    **kwargs\n",
        ")"
      ]
    },
    {
      "cell_type": "markdown",
      "source": [
        "##Categorical features preprocessing layers\n",
        "###CategoryEncoding layer"
      ],
      "metadata": {
        "id": "jjs-fMUTKfyF"
      }
    },
    {
      "cell_type": "code",
      "execution_count": null,
      "metadata": {
        "id": "Qx8uyfeVxK7i"
      },
      "outputs": [],
      "source": [
        "#A preprocessing layer which encodes integer features.\n",
        "tf.keras.layers.CategoryEncoding(\n",
        "    num_tokens=None, output_mode=\"multi_hot\", sparse=False, **kwargs\n",
        ")"
      ]
    },
    {
      "cell_type": "markdown",
      "source": [
        "###Hashing Layer"
      ],
      "metadata": {
        "id": "6ai54BSjK_Iq"
      }
    },
    {
      "cell_type": "code",
      "source": [
        "#A preprocessing layer which hashes and bins categorical features.\n",
        "tf.keras.layers.Hashing(\n",
        "    num_bins, mask_value=None, salt=None, output_mode=\"int\", sparse=False, **kwargs\n",
        ")"
      ],
      "metadata": {
        "id": "15M8qjDkLA0Y"
      },
      "execution_count": null,
      "outputs": []
    },
    {
      "cell_type": "markdown",
      "source": [
        "###StringLookup layer"
      ],
      "metadata": {
        "id": "F1r_ITaGLHpB"
      }
    },
    {
      "cell_type": "code",
      "source": [
        "#A preprocessing layer which maps string features to integer indices.\n",
        "tf.keras.layers.StringLookup(\n",
        "    max_tokens=None,\n",
        "    num_oov_indices=1,\n",
        "    mask_token=None,\n",
        "    oov_token=\"[UNK]\",\n",
        "    vocabulary=None,\n",
        "    idf_weights=None,\n",
        "    encoding=\"utf-8\",\n",
        "    invert=False,\n",
        "    output_mode=\"int\",\n",
        "    sparse=False,\n",
        "    pad_to_max_tokens=False,\n",
        "    **kwargs\n",
        ")"
      ],
      "metadata": {
        "id": "bTAEY3RBLIuD"
      },
      "execution_count": null,
      "outputs": []
    },
    {
      "cell_type": "markdown",
      "source": [
        "###IntegerLookup layer"
      ],
      "metadata": {
        "id": "2SoY0wASLSD1"
      }
    },
    {
      "cell_type": "code",
      "source": [
        "#A preprocessing layer which maps integer features to contiguous ranges.\n",
        "tf.keras.layers.IntegerLookup(\n",
        "    max_tokens=None,\n",
        "    num_oov_indices=1,\n",
        "    mask_token=None,\n",
        "    oov_token=-1,\n",
        "    vocabulary=None,\n",
        "    vocabulary_dtype=\"int64\",\n",
        "    idf_weights=None,\n",
        "    invert=False,\n",
        "    output_mode=\"int\",\n",
        "    sparse=False,\n",
        "    pad_to_max_tokens=False,\n",
        "    **kwargs\n",
        ")"
      ],
      "metadata": {
        "id": "_PCTMizbLTGj"
      },
      "execution_count": null,
      "outputs": []
    },
    {
      "cell_type": "markdown",
      "source": [
        "##Image preprocessing layers\n",
        "###Resizing layer"
      ],
      "metadata": {
        "id": "4QLVJZShLamE"
      }
    },
    {
      "cell_type": "code",
      "execution_count": null,
      "metadata": {
        "id": "JDl532oM0Jkt"
      },
      "outputs": [],
      "source": [
        "#A preprocessing layer which resizes images.\n",
        "tf.keras.layers.Resizing(\n",
        "    height, width, interpolation=\"bilinear\", crop_to_aspect_ratio=False, **kwargs\n",
        ")"
      ]
    },
    {
      "cell_type": "markdown",
      "source": [
        "###Rescaling layer"
      ],
      "metadata": {
        "id": "lo2sSDxqLoSs"
      }
    },
    {
      "cell_type": "code",
      "execution_count": null,
      "metadata": {
        "id": "4ulNosAm2Xrh"
      },
      "outputs": [],
      "source": [
        "#A preprocessing layer which rescales input values to a new range.\n",
        "tf.keras.layers.Rescaling(scale, offset=0.0, **kwargs)"
      ]
    },
    {
      "cell_type": "markdown",
      "source": [
        "###CenterCrop layer"
      ],
      "metadata": {
        "id": "5mRUU3ZaL3Fl"
      }
    },
    {
      "cell_type": "code",
      "execution_count": null,
      "metadata": {
        "id": "FdZ5K_J-303q"
      },
      "outputs": [],
      "source": [
        "#A preprocessing layer which crops images.\n",
        "tf.keras.layers.CenterCrop(height, width, **kwargs)"
      ]
    },
    {
      "cell_type": "markdown",
      "source": [
        "##Image augmentation layers\n",
        "###RandomCrop layer"
      ],
      "metadata": {
        "id": "49ifD8VVL-zU"
      }
    },
    {
      "cell_type": "code",
      "execution_count": null,
      "metadata": {
        "id": "RliYb5_B35Q8"
      },
      "outputs": [],
      "source": [
        "#A preprocessing layer which randomly crops images during training.\n",
        "tf.keras.layers.RandomCrop(height, width, seed=None, **kwargs)"
      ]
    },
    {
      "cell_type": "markdown",
      "source": [
        "###RandomFlip layer"
      ],
      "metadata": {
        "id": "56tUSUDAMJaG"
      }
    },
    {
      "cell_type": "code",
      "execution_count": null,
      "metadata": {
        "id": "W0B6TkXb4E8I"
      },
      "outputs": [],
      "source": [
        "#A preprocessing layer which randomly flips images during training.\n",
        "tf.keras.layers.RandomFlip(\n",
        "    mode=\"horizontal_and_vertical\", seed=None, **kwargs\n",
        ")"
      ]
    },
    {
      "cell_type": "markdown",
      "source": [
        "###RandomTranslation layer"
      ],
      "metadata": {
        "id": "KKraqKKtMR_h"
      }
    },
    {
      "cell_type": "code",
      "source": [
        "#A preprocessing layer which randomly translates images during training.\n",
        "tf.keras.layers.RandomTranslation(\n",
        "    height_factor,\n",
        "    width_factor,\n",
        "    fill_mode=\"reflect\",\n",
        "    interpolation=\"bilinear\",\n",
        "    seed=None,\n",
        "    fill_value=0.0,\n",
        "    **kwargs\n",
        ")"
      ],
      "metadata": {
        "id": "MUUxfO2mMS9t"
      },
      "execution_count": null,
      "outputs": []
    },
    {
      "cell_type": "markdown",
      "source": [
        "###RandomRotation layer"
      ],
      "metadata": {
        "id": "904YsaPdMWqN"
      }
    },
    {
      "cell_type": "code",
      "source": [
        "#A preprocessing layer which randomly rotates images during training.\n",
        "tf.keras.layers.RandomRotation(\n",
        "    factor,\n",
        "    fill_mode=\"reflect\",\n",
        "    interpolation=\"bilinear\",\n",
        "    seed=None,\n",
        "    fill_value=0.0,\n",
        "    **kwargs\n",
        ")"
      ],
      "metadata": {
        "id": "3eRo8H9bMgmx"
      },
      "execution_count": null,
      "outputs": []
    },
    {
      "cell_type": "markdown",
      "source": [
        "###RandomZoom layer"
      ],
      "metadata": {
        "id": "ayLpIiZbMma6"
      }
    },
    {
      "cell_type": "code",
      "source": [
        "#A preprocessing layer which randomly zooms images during training.\n",
        "tf.keras.layers.RandomZoom(\n",
        "    height_factor,\n",
        "    width_factor=None,\n",
        "    fill_mode=\"reflect\",\n",
        "    interpolation=\"bilinear\",\n",
        "    seed=None,\n",
        "    fill_value=0.0,\n",
        "    **kwargs\n",
        ")"
      ],
      "metadata": {
        "id": "qDxMbMtBMqEC"
      },
      "execution_count": null,
      "outputs": []
    },
    {
      "cell_type": "markdown",
      "source": [
        "###RandomHeight layer"
      ],
      "metadata": {
        "id": "d_0eKp8nMtMZ"
      }
    },
    {
      "cell_type": "code",
      "source": [
        "#A preprocessing layer which randomly varies image height during training.\n",
        "tf.keras.layers.RandomHeight(\n",
        "    factor, interpolation=\"bilinear\", seed=None, **kwargs\n",
        ")"
      ],
      "metadata": {
        "id": "EejRtUc2MwXh"
      },
      "execution_count": null,
      "outputs": []
    },
    {
      "cell_type": "markdown",
      "source": [
        "###RandomWidth layer\n"
      ],
      "metadata": {
        "id": "Nu2MFQpCMzLj"
      }
    },
    {
      "cell_type": "code",
      "source": [
        "#A preprocessing layer which randomly varies image width during training.\n",
        "tf.keras.layers.RandomWidth(\n",
        "    factor, interpolation=\"bilinear\", seed=None, **kwargs\n",
        ")"
      ],
      "metadata": {
        "id": "PeotmJs2M3zU"
      },
      "execution_count": null,
      "outputs": []
    },
    {
      "cell_type": "markdown",
      "source": [
        "###RandomContrast layer"
      ],
      "metadata": {
        "id": "J3aYEE4bM7Ox"
      }
    },
    {
      "cell_type": "code",
      "source": [
        "#A preprocessing layer which randomly adjusts contrast during training.\n",
        "tf.keras.layers.RandomContrast(factor, seed=None, **kwargs)"
      ],
      "metadata": {
        "id": "kf5xUN1iM-c3"
      },
      "execution_count": null,
      "outputs": []
    },
    {
      "cell_type": "markdown",
      "source": [
        "###RandomBrightness layer"
      ],
      "metadata": {
        "id": "uajeyrtPNCBQ"
      }
    },
    {
      "cell_type": "code",
      "source": [
        "#A preprocessing layer which randomly adjusts brightness during training.\n",
        "tf.keras.layers.RandomBrightness(\n",
        "    factor, value_range=(0, 255), seed=None, **kwargs\n",
        ")"
      ],
      "metadata": {
        "id": "GC4Yp8meNGqc"
      },
      "execution_count": null,
      "outputs": []
    }
  ],
  "metadata": {
    "colab": {
      "provenance": [],
      "authorship_tag": "ABX9TyManb3Vnk3m2T0jP148VbLn"
    },
    "kernelspec": {
      "display_name": "Python 3",
      "name": "python3"
    },
    "language_info": {
      "name": "python"
    }
  },
  "nbformat": 4,
  "nbformat_minor": 0
}